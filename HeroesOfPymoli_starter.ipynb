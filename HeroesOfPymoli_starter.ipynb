{
 "cells": [
  {
   "cell_type": "markdown",
   "metadata": {},
   "source": [
    "### Heroes Of Pymoli Data Analysis\n",
    "* Of the 1163 active players, the vast majority are male (84%). There also exists, a smaller, but notable proportion of female players (14%).\n",
    "\n",
    "* Our peak age demographic falls between 20-24 (44.8%) with secondary groups falling between 15-19 (18.60%) and 25-29 (13.4%).  \n",
    "-----"
   ]
  },
  {
   "cell_type": "markdown",
   "metadata": {},
   "source": [
    "### Note\n",
    "* Instructions have been included for each segment. You do not have to follow them exactly, but they are included to help you think through the steps."
   ]
  },
  {
   "cell_type": "code",
   "execution_count": 29,
   "metadata": {},
   "outputs": [
    {
     "data": {
      "text/html": [
       "<div>\n",
       "<style scoped>\n",
       "    .dataframe tbody tr th:only-of-type {\n",
       "        vertical-align: middle;\n",
       "    }\n",
       "\n",
       "    .dataframe tbody tr th {\n",
       "        vertical-align: top;\n",
       "    }\n",
       "\n",
       "    .dataframe thead th {\n",
       "        text-align: right;\n",
       "    }\n",
       "</style>\n",
       "<table border=\"1\" class=\"dataframe\">\n",
       "  <thead>\n",
       "    <tr style=\"text-align: right;\">\n",
       "      <th></th>\n",
       "      <th>Purchase ID</th>\n",
       "      <th>SN</th>\n",
       "      <th>Age</th>\n",
       "      <th>Gender</th>\n",
       "      <th>Item ID</th>\n",
       "      <th>Item Name</th>\n",
       "      <th>Price</th>\n",
       "    </tr>\n",
       "  </thead>\n",
       "  <tbody>\n",
       "    <tr>\n",
       "      <th>0</th>\n",
       "      <td>0</td>\n",
       "      <td>Lisim78</td>\n",
       "      <td>20</td>\n",
       "      <td>Male</td>\n",
       "      <td>108</td>\n",
       "      <td>Extraction, Quickblade Of Trembling Hands</td>\n",
       "      <td>3.53</td>\n",
       "    </tr>\n",
       "    <tr>\n",
       "      <th>1</th>\n",
       "      <td>1</td>\n",
       "      <td>Lisovynya38</td>\n",
       "      <td>40</td>\n",
       "      <td>Male</td>\n",
       "      <td>143</td>\n",
       "      <td>Frenzied Scimitar</td>\n",
       "      <td>1.56</td>\n",
       "    </tr>\n",
       "    <tr>\n",
       "      <th>2</th>\n",
       "      <td>2</td>\n",
       "      <td>Ithergue48</td>\n",
       "      <td>24</td>\n",
       "      <td>Male</td>\n",
       "      <td>92</td>\n",
       "      <td>Final Critic</td>\n",
       "      <td>4.88</td>\n",
       "    </tr>\n",
       "    <tr>\n",
       "      <th>3</th>\n",
       "      <td>3</td>\n",
       "      <td>Chamassasya86</td>\n",
       "      <td>24</td>\n",
       "      <td>Male</td>\n",
       "      <td>100</td>\n",
       "      <td>Blindscythe</td>\n",
       "      <td>3.27</td>\n",
       "    </tr>\n",
       "    <tr>\n",
       "      <th>4</th>\n",
       "      <td>4</td>\n",
       "      <td>Iskosia90</td>\n",
       "      <td>23</td>\n",
       "      <td>Male</td>\n",
       "      <td>131</td>\n",
       "      <td>Fury</td>\n",
       "      <td>1.44</td>\n",
       "    </tr>\n",
       "  </tbody>\n",
       "</table>\n",
       "</div>"
      ],
      "text/plain": [
       "   Purchase ID             SN  Age Gender  Item ID  \\\n",
       "0            0        Lisim78   20   Male      108   \n",
       "1            1    Lisovynya38   40   Male      143   \n",
       "2            2     Ithergue48   24   Male       92   \n",
       "3            3  Chamassasya86   24   Male      100   \n",
       "4            4      Iskosia90   23   Male      131   \n",
       "\n",
       "                                   Item Name  Price  \n",
       "0  Extraction, Quickblade Of Trembling Hands   3.53  \n",
       "1                          Frenzied Scimitar   1.56  \n",
       "2                               Final Critic   4.88  \n",
       "3                                Blindscythe   3.27  \n",
       "4                                       Fury   1.44  "
      ]
     },
     "execution_count": 29,
     "metadata": {},
     "output_type": "execute_result"
    }
   ],
   "source": [
    "# Dependencies and Setup\n",
    "import pandas as pd\n",
    "import numpy as np\n",
    "\n",
    "# File to Load (Remember to Change These)\n",
    "file_to_load = \"Resources/purchase_data.csv\"\n",
    "\n",
    "# Read Purchasing File and store into Pandas data frame\n",
    "purchase_data = pd.read_csv(file_to_load)\n",
    "purchase_data.head()"
   ]
  },
  {
   "cell_type": "markdown",
   "metadata": {},
   "source": [
    "## Player Count"
   ]
  },
  {
   "cell_type": "markdown",
   "metadata": {},
   "source": [
    "* Display the total number of players\n"
   ]
  },
  {
   "cell_type": "code",
   "execution_count": 43,
   "metadata": {},
   "outputs": [
    {
     "data": {
      "text/html": [
       "<div>\n",
       "<style scoped>\n",
       "    .dataframe tbody tr th:only-of-type {\n",
       "        vertical-align: middle;\n",
       "    }\n",
       "\n",
       "    .dataframe tbody tr th {\n",
       "        vertical-align: top;\n",
       "    }\n",
       "\n",
       "    .dataframe thead th {\n",
       "        text-align: right;\n",
       "    }\n",
       "</style>\n",
       "<table border=\"1\" class=\"dataframe\">\n",
       "  <thead>\n",
       "    <tr style=\"text-align: right;\">\n",
       "      <th></th>\n",
       "      <th>Total Players</th>\n",
       "    </tr>\n",
       "  </thead>\n",
       "  <tbody>\n",
       "    <tr>\n",
       "      <th>0</th>\n",
       "      <td>576</td>\n",
       "    </tr>\n",
       "  </tbody>\n",
       "</table>\n",
       "</div>"
      ],
      "text/plain": [
       "   Total Players\n",
       "0            576"
      ]
     },
     "execution_count": 43,
     "metadata": {},
     "output_type": "execute_result"
    }
   ],
   "source": [
    "#find unique players\n",
    "players = len(purchase_data['SN'].value_counts())\n",
    "#show number of unique players\n",
    "unique_players = pd.DataFrame({\"Total Players\": [players]})\n",
    "unique_players"
   ]
  },
  {
   "cell_type": "markdown",
   "metadata": {},
   "source": [
    "## Purchasing Analysis (Total)"
   ]
  },
  {
   "cell_type": "markdown",
   "metadata": {},
   "source": [
    "* Run basic calculations to obtain number of unique items, average price, etc.\n",
    "\n",
    "\n",
    "* Create a summary data frame to hold the results\n",
    "\n",
    "\n",
    "* Optional: give the displayed data cleaner formatting\n",
    "\n",
    "\n",
    "* Display the summary data frame\n"
   ]
  },
  {
   "cell_type": "code",
   "execution_count": 44,
   "metadata": {},
   "outputs": [
    {
     "name": "stdout",
     "output_type": "stream",
     "text": [
      "780\n",
      "183\n",
      "3.050987179487176\n",
      "2379.77\n"
     ]
    }
   ],
   "source": [
    "#total purchases\n",
    "purchases = purchase_data[\"Purchase ID\"].count()\n",
    "#unique items\n",
    "unique_items = len(purchase_data[\"Item ID\"].unique())\n",
    "#average price\n",
    "avg_p = purchase_data[\"Price\"].mean()\n",
    "#total revenue\n",
    "total_rev = purchase_data[\"Price\"].sum()\n",
    "print(purchases)\n",
    "print(unique_items)\n",
    "print(avg_p)\n",
    "print(total_rev)"
   ]
  },
  {
   "cell_type": "code",
   "execution_count": 45,
   "metadata": {
    "scrolled": true
   },
   "outputs": [
    {
     "name": "stderr",
     "output_type": "stream",
     "text": [
      "C:\\Users\\jerri\\Anaconda3\\lib\\site-packages\\ipykernel_launcher.py:6: FutureWarning: from_items is deprecated. Please use DataFrame.from_dict(dict(items), ...) instead. DataFrame.from_dict(OrderedDict(items)) may be used to preserve the key order.\n",
      "  \n"
     ]
    },
    {
     "data": {
      "text/html": [
       "<div>\n",
       "<style scoped>\n",
       "    .dataframe tbody tr th:only-of-type {\n",
       "        vertical-align: middle;\n",
       "    }\n",
       "\n",
       "    .dataframe tbody tr th {\n",
       "        vertical-align: top;\n",
       "    }\n",
       "\n",
       "    .dataframe thead th {\n",
       "        text-align: right;\n",
       "    }\n",
       "</style>\n",
       "<table border=\"1\" class=\"dataframe\">\n",
       "  <thead>\n",
       "    <tr style=\"text-align: right;\">\n",
       "      <th></th>\n",
       "      <th>Number of Unique Items</th>\n",
       "      <th>Average Price</th>\n",
       "      <th>Number of Purchases</th>\n",
       "      <th>Total Revenue</th>\n",
       "    </tr>\n",
       "  </thead>\n",
       "  <tbody>\n",
       "    <tr>\n",
       "      <th>0</th>\n",
       "      <td>183</td>\n",
       "      <td>$3.05</td>\n",
       "      <td>780</td>\n",
       "      <td>$2,379.77</td>\n",
       "    </tr>\n",
       "  </tbody>\n",
       "</table>\n",
       "</div>"
      ],
      "text/plain": [
       "   Number of Unique Items Average Price  Number of Purchases Total Revenue\n",
       "0                     183         $3.05                  780     $2,379.77"
      ]
     },
     "execution_count": 45,
     "metadata": {},
     "output_type": "execute_result"
    }
   ],
   "source": [
    "#Purchasing Analysis DataFrame\n",
    "summary = [(\"Number of Unique Items\", [unique_items]),\n",
    "           (\"Average Price\", [avg_p]),\n",
    "           (\"Number of Purchases\", [purchases]),\n",
    "           (\"Total Revenue\", [total_rev])]\n",
    "df_summary = pd.DataFrame.from_items(summary)\n",
    "#Editing the formatting\n",
    "df_summary[\"Average Price\"]=df_summary[\"Average Price\"].map(\"${:,.2f}\".format)\n",
    "df_summary[\"Total Revenue\"]=df_summary[\"Total Revenue\"].map(\"${:,.2f}\".format)\n",
    "df_summary"
   ]
  },
  {
   "cell_type": "markdown",
   "metadata": {},
   "source": [
    "## Gender Demographics"
   ]
  },
  {
   "cell_type": "markdown",
   "metadata": {},
   "source": [
    "* Percentage and Count of Male Players\n",
    "\n",
    "\n",
    "* Percentage and Count of Female Players\n",
    "\n",
    "\n",
    "* Percentage and Count of Other / Non-Disclosed\n",
    "\n",
    "\n"
   ]
  },
  {
   "cell_type": "code",
   "execution_count": 48,
   "metadata": {},
   "outputs": [
    {
     "data": {
      "text/html": [
       "<div>\n",
       "<style scoped>\n",
       "    .dataframe tbody tr th:only-of-type {\n",
       "        vertical-align: middle;\n",
       "    }\n",
       "\n",
       "    .dataframe tbody tr th {\n",
       "        vertical-align: top;\n",
       "    }\n",
       "\n",
       "    .dataframe thead th {\n",
       "        text-align: right;\n",
       "    }\n",
       "</style>\n",
       "<table border=\"1\" class=\"dataframe\">\n",
       "  <thead>\n",
       "    <tr style=\"text-align: right;\">\n",
       "      <th></th>\n",
       "      <th></th>\n",
       "      <th>Percentage of Players</th>\n",
       "      <th>Total Count</th>\n",
       "    </tr>\n",
       "  </thead>\n",
       "  <tbody>\n",
       "    <tr>\n",
       "      <th>0</th>\n",
       "      <td>Male</td>\n",
       "      <td>84.03%</td>\n",
       "      <td>484</td>\n",
       "    </tr>\n",
       "    <tr>\n",
       "      <th>1</th>\n",
       "      <td>Female</td>\n",
       "      <td>14.06%</td>\n",
       "      <td>81</td>\n",
       "    </tr>\n",
       "    <tr>\n",
       "      <th>2</th>\n",
       "      <td>Other/Non-Disclosed</td>\n",
       "      <td>1.91%</td>\n",
       "      <td>11</td>\n",
       "    </tr>\n",
       "  </tbody>\n",
       "</table>\n",
       "</div>"
      ],
      "text/plain": [
       "                       Percentage of Players  Total Count\n",
       "0                 Male                84.03%          484\n",
       "1               Female                14.06%           81\n",
       "2  Other/Non-Disclosed                 1.91%           11"
      ]
     },
     "execution_count": 48,
     "metadata": {},
     "output_type": "execute_result"
    }
   ],
   "source": [
    "#Find total gender, and total of m, f, non\n",
    "duplicate = purchase_data.drop_duplicates(subset='SN', keep=\"first\")\n",
    "gender_total = duplicate[\"Gender\"].count()\n",
    "m_total = duplicate[\"Gender\"].value_counts()['Male']\n",
    "f_total = duplicate[\"Gender\"].value_counts()['Female']\n",
    "non_total = TotalGen - MaleGen - FemaleGen\n",
    "\n",
    "m_per = (m_total / gender_total) * 100\n",
    "f_per = (f_total / gender_total) * 100\n",
    "non_per = (non_total / gender_total) * 100\n",
    "\n",
    "# Create new DataFrame\n",
    "gender_df = pd.DataFrame({\"\": ['Male', 'Female', 'Other/Non-Disclosed'],\n",
    "                            \"Percentage of Players\": [m_per, f_per, non_per],\n",
    "                            \"Total Count\": [m_total, f_total, non_total]})\n",
    "\n",
    "# DataFrame formatting\n",
    "gender_df[\"Percentage of Players\"] = gender_df[\"Percentage of Players\"].map(\"{:.2f}%\".format)\n",
    "gender_df"
   ]
  },
  {
   "cell_type": "markdown",
   "metadata": {},
   "source": [
    "\n",
    "## Purchasing Analysis (Gender)"
   ]
  },
  {
   "cell_type": "markdown",
   "metadata": {},
   "source": [
    "* Run basic calculations to obtain purchase count, avg. purchase price, avg. purchase total per person etc. by gender\n",
    "\n",
    "\n",
    "\n",
    "\n",
    "* Create a summary data frame to hold the results\n",
    "\n",
    "\n",
    "* Optional: give the displayed data cleaner formatting\n",
    "\n",
    "\n",
    "* Display the summary data frame"
   ]
  },
  {
   "cell_type": "code",
   "execution_count": 58,
   "metadata": {},
   "outputs": [
    {
     "data": {
      "text/html": [
       "<div>\n",
       "<style scoped>\n",
       "    .dataframe tbody tr th:only-of-type {\n",
       "        vertical-align: middle;\n",
       "    }\n",
       "\n",
       "    .dataframe tbody tr th {\n",
       "        vertical-align: top;\n",
       "    }\n",
       "\n",
       "    .dataframe thead th {\n",
       "        text-align: right;\n",
       "    }\n",
       "</style>\n",
       "<table border=\"1\" class=\"dataframe\">\n",
       "  <thead>\n",
       "    <tr style=\"text-align: right;\">\n",
       "      <th></th>\n",
       "      <th>Purchase Count</th>\n",
       "      <th>Average Purchase Price</th>\n",
       "      <th>Total Purchase Value</th>\n",
       "      <th>Avg Total Purchases per Person</th>\n",
       "    </tr>\n",
       "    <tr>\n",
       "      <th>Gender</th>\n",
       "      <th></th>\n",
       "      <th></th>\n",
       "      <th></th>\n",
       "      <th></th>\n",
       "    </tr>\n",
       "  </thead>\n",
       "  <tbody>\n",
       "    <tr>\n",
       "      <th>Female</th>\n",
       "      <td>113</td>\n",
       "      <td>$3.20</td>\n",
       "      <td>$361.94</td>\n",
       "      <td>$4.47</td>\n",
       "    </tr>\n",
       "    <tr>\n",
       "      <th>Male</th>\n",
       "      <td>652</td>\n",
       "      <td>$3.02</td>\n",
       "      <td>$1,967.64</td>\n",
       "      <td>$4.07</td>\n",
       "    </tr>\n",
       "    <tr>\n",
       "      <th>Other / Non-Disclosed</th>\n",
       "      <td>15</td>\n",
       "      <td>$3.35</td>\n",
       "      <td>$50.19</td>\n",
       "      <td>$4.56</td>\n",
       "    </tr>\n",
       "  </tbody>\n",
       "</table>\n",
       "</div>"
      ],
      "text/plain": [
       "                       Purchase Count Average Purchase Price  \\\n",
       "Gender                                                         \n",
       "Female                            113                  $3.20   \n",
       "Male                              652                  $3.02   \n",
       "Other / Non-Disclosed              15                  $3.35   \n",
       "\n",
       "                      Total Purchase Value Avg Total Purchases per Person  \n",
       "Gender                                                                     \n",
       "Female                             $361.94                          $4.47  \n",
       "Male                             $1,967.64                          $4.07  \n",
       "Other / Non-Disclosed               $50.19                          $4.56  "
      ]
     },
     "execution_count": 58,
     "metadata": {},
     "output_type": "execute_result"
    }
   ],
   "source": [
    "#group by Gender\n",
    "grouped_df = purchase_data.groupby([\"Gender\"])\n",
    "\n",
    "#count, avg, total\n",
    "purch_count = grouped_df[\"SN\"].count()\n",
    "purch_avg = grouped_df[\"Price\"].mean()\n",
    "purch_total = grouped_df[\"Price\"].sum()\n",
    "\n",
    "#removing duplicates\n",
    "duplicate_grouped_df = duplicate.groupby([\"Gender\"])\n",
    "duplicate_purch = (grouped_df[\"Price\"].sum() / duplicate_grouped_df[\"SN\"].count())\n",
    "\n",
    "#Creating new dataframe\n",
    "purch_analysis = pd.DataFrame({\"Purchase Count\": purch_count,\n",
    "                              \"Average Purchase Price\": purch_avg,\n",
    "                              \"Total Purchase Value\": purch_total,\n",
    "                              \"Avg Total Purchases per Person\": duplicate_purch})\n",
    "\n",
    "#formatting\n",
    "purch_analysis[\"Average Purchase Price\"] = purch_analysis[\"Average Purchase Price\"].map(\"${:.2f}\".format)\n",
    "purch_analysis[\"Total Purchase Value\"] = purch_analysis[\"Total Purchase Value\"].map(\"${:,.2f}\".format)\n",
    "purch_analysis[\"Avg Total Purchases per Person\"] = purch_analysis[\"Avg Total Purchases per Person\"].map(\"${:.2f}\".format)\n",
    "purch_analysis = purch_analysis[[\"Purchase Count\", \"Average Purchase Price\", \"Total Purchase Value\", \"Avg Total Purchases per Person\"]]\n",
    "purch_analysis"
   ]
  },
  {
   "cell_type": "markdown",
   "metadata": {},
   "source": [
    "## Age Demographics"
   ]
  },
  {
   "cell_type": "markdown",
   "metadata": {},
   "source": [
    "* Establish bins for ages\n",
    "\n",
    "\n",
    "* Categorize the existing players using the age bins. Hint: use pd.cut()\n",
    "\n",
    "\n",
    "* Calculate the numbers and percentages by age group\n",
    "\n",
    "\n",
    "* Create a summary data frame to hold the results\n",
    "\n",
    "\n",
    "* Optional: round the percentage column to two decimal points\n",
    "\n",
    "\n",
    "* Display Age Demographics Table\n"
   ]
  },
  {
   "cell_type": "code",
   "execution_count": 67,
   "metadata": {},
   "outputs": [
    {
     "data": {
      "text/html": [
       "<div>\n",
       "<style scoped>\n",
       "    .dataframe tbody tr th:only-of-type {\n",
       "        vertical-align: middle;\n",
       "    }\n",
       "\n",
       "    .dataframe tbody tr th {\n",
       "        vertical-align: top;\n",
       "    }\n",
       "\n",
       "    .dataframe thead th {\n",
       "        text-align: right;\n",
       "    }\n",
       "</style>\n",
       "<table border=\"1\" class=\"dataframe\">\n",
       "  <thead>\n",
       "    <tr style=\"text-align: right;\">\n",
       "      <th></th>\n",
       "      <th>Total Count</th>\n",
       "      <th>Percentage of Players</th>\n",
       "    </tr>\n",
       "    <tr>\n",
       "      <th>Age Groups</th>\n",
       "      <th></th>\n",
       "      <th></th>\n",
       "    </tr>\n",
       "  </thead>\n",
       "  <tbody>\n",
       "    <tr>\n",
       "      <th>&lt;10</th>\n",
       "      <td>17</td>\n",
       "      <td>2.95%</td>\n",
       "    </tr>\n",
       "    <tr>\n",
       "      <th>10-14</th>\n",
       "      <td>22</td>\n",
       "      <td>3.82%</td>\n",
       "    </tr>\n",
       "    <tr>\n",
       "      <th>15-19</th>\n",
       "      <td>107</td>\n",
       "      <td>18.58%</td>\n",
       "    </tr>\n",
       "    <tr>\n",
       "      <th>20-24</th>\n",
       "      <td>258</td>\n",
       "      <td>44.79%</td>\n",
       "    </tr>\n",
       "    <tr>\n",
       "      <th>25-29</th>\n",
       "      <td>77</td>\n",
       "      <td>13.37%</td>\n",
       "    </tr>\n",
       "    <tr>\n",
       "      <th>30-34</th>\n",
       "      <td>52</td>\n",
       "      <td>9.03%</td>\n",
       "    </tr>\n",
       "    <tr>\n",
       "      <th>35-39</th>\n",
       "      <td>31</td>\n",
       "      <td>5.38%</td>\n",
       "    </tr>\n",
       "    <tr>\n",
       "      <th>40+</th>\n",
       "      <td>12</td>\n",
       "      <td>2.08%</td>\n",
       "    </tr>\n",
       "  </tbody>\n",
       "</table>\n",
       "</div>"
      ],
      "text/plain": [
       "            Total Count Percentage of Players\n",
       "Age Groups                                   \n",
       "<10                  17                 2.95%\n",
       "10-14                22                 3.82%\n",
       "15-19               107                18.58%\n",
       "20-24               258                44.79%\n",
       "25-29                77                13.37%\n",
       "30-34                52                 9.03%\n",
       "35-39                31                 5.38%\n",
       "40+                  12                 2.08%"
      ]
     },
     "execution_count": 67,
     "metadata": {},
     "output_type": "execute_result"
    }
   ],
   "source": [
    "#set up bins\n",
    "bins = [0,9.99,14.99,19.99,24.99,29.99,34.99,39.99,2000]\n",
    "names = ['<10', '10-14', '15-19', '20-24', '25-29', '30-34', '35-39', '40+']\n",
    "\n",
    "#add bins to dataframe\n",
    "bins_df = purchase_data.copy()\n",
    "bins_df[\"Age Groups\"] = pd.cut(bins_df[\"Age\"], bins, labels=names)\n",
    "bins_group = bins_df.groupby([\"Age Groups\"])\n",
    "\n",
    "#find counts and %\n",
    "total_count = purchase_data[\"SN\"].nunique()\n",
    "bins_count = bins_group[\"SN\"].nunique()\n",
    "bins_pct = (bins_count / total_count) * 100\n",
    "bins_pct\n",
    "\n",
    "#dataframe\n",
    "age_df = pd.DataFrame({\"Total Count\": bins_count, \"Percentage of Players\": bins_pct})\n",
    "\n",
    "#formatting\n",
    "age_df[\"Percentage of Players\"] = age_df[\"Percentage of Players\"].map(\"{:.2f}%\".format)\n",
    "age_df"
   ]
  },
  {
   "cell_type": "markdown",
   "metadata": {},
   "source": [
    "## Purchasing Analysis (Age)"
   ]
  },
  {
   "cell_type": "markdown",
   "metadata": {},
   "source": [
    "* Bin the purchase_data data frame by age\n",
    "\n",
    "\n",
    "* Run basic calculations to obtain purchase count, avg. purchase price, avg. purchase total per person etc. in the table below\n",
    "\n",
    "\n",
    "* Create a summary data frame to hold the results\n",
    "\n",
    "\n",
    "* Optional: give the displayed data cleaner formatting\n",
    "\n",
    "\n",
    "* Display the summary data frame"
   ]
  },
  {
   "cell_type": "code",
   "execution_count": 70,
   "metadata": {},
   "outputs": [
    {
     "data": {
      "text/html": [
       "<style  type=\"text/css\" >\n",
       "</style>  \n",
       "<table id=\"T_a54e3642_977c_11e9_97ed_80c5f2066896\" > \n",
       "<thead>    <tr> \n",
       "        <th class=\"blank level0\" ></th> \n",
       "        <th class=\"col_heading level0 col0\" >Purchase Count</th> \n",
       "        <th class=\"col_heading level0 col1\" >Average Purchase Price</th> \n",
       "        <th class=\"col_heading level0 col2\" >Total Purchase Value</th> \n",
       "        <th class=\"col_heading level0 col3\" >Average Purchase Total per Person</th> \n",
       "    </tr>    <tr> \n",
       "        <th class=\"index_name level0\" >Age Groups</th> \n",
       "        <th class=\"blank\" ></th> \n",
       "        <th class=\"blank\" ></th> \n",
       "        <th class=\"blank\" ></th> \n",
       "        <th class=\"blank\" ></th> \n",
       "    </tr></thead> \n",
       "<tbody>    <tr> \n",
       "        <th id=\"T_a54e3642_977c_11e9_97ed_80c5f2066896level0_row0\" class=\"row_heading level0 row0\" ><10</th> \n",
       "        <td id=\"T_a54e3642_977c_11e9_97ed_80c5f2066896row0_col0\" class=\"data row0 col0\" >23</td> \n",
       "        <td id=\"T_a54e3642_977c_11e9_97ed_80c5f2066896row0_col1\" class=\"data row0 col1\" >$3.35</td> \n",
       "        <td id=\"T_a54e3642_977c_11e9_97ed_80c5f2066896row0_col2\" class=\"data row0 col2\" >$77.13</td> \n",
       "        <td id=\"T_a54e3642_977c_11e9_97ed_80c5f2066896row0_col3\" class=\"data row0 col3\" >$0.13</td> \n",
       "    </tr>    <tr> \n",
       "        <th id=\"T_a54e3642_977c_11e9_97ed_80c5f2066896level0_row1\" class=\"row_heading level0 row1\" >10-14</th> \n",
       "        <td id=\"T_a54e3642_977c_11e9_97ed_80c5f2066896row1_col0\" class=\"data row1 col0\" >28</td> \n",
       "        <td id=\"T_a54e3642_977c_11e9_97ed_80c5f2066896row1_col1\" class=\"data row1 col1\" >$2.96</td> \n",
       "        <td id=\"T_a54e3642_977c_11e9_97ed_80c5f2066896row1_col2\" class=\"data row1 col2\" >$82.78</td> \n",
       "        <td id=\"T_a54e3642_977c_11e9_97ed_80c5f2066896row1_col3\" class=\"data row1 col3\" >$0.14</td> \n",
       "    </tr>    <tr> \n",
       "        <th id=\"T_a54e3642_977c_11e9_97ed_80c5f2066896level0_row2\" class=\"row_heading level0 row2\" >15-19</th> \n",
       "        <td id=\"T_a54e3642_977c_11e9_97ed_80c5f2066896row2_col0\" class=\"data row2 col0\" >136</td> \n",
       "        <td id=\"T_a54e3642_977c_11e9_97ed_80c5f2066896row2_col1\" class=\"data row2 col1\" >$3.04</td> \n",
       "        <td id=\"T_a54e3642_977c_11e9_97ed_80c5f2066896row2_col2\" class=\"data row2 col2\" >$412.89</td> \n",
       "        <td id=\"T_a54e3642_977c_11e9_97ed_80c5f2066896row2_col3\" class=\"data row2 col3\" >$0.72</td> \n",
       "    </tr>    <tr> \n",
       "        <th id=\"T_a54e3642_977c_11e9_97ed_80c5f2066896level0_row3\" class=\"row_heading level0 row3\" >20-24</th> \n",
       "        <td id=\"T_a54e3642_977c_11e9_97ed_80c5f2066896row3_col0\" class=\"data row3 col0\" >365</td> \n",
       "        <td id=\"T_a54e3642_977c_11e9_97ed_80c5f2066896row3_col1\" class=\"data row3 col1\" >$3.05</td> \n",
       "        <td id=\"T_a54e3642_977c_11e9_97ed_80c5f2066896row3_col2\" class=\"data row3 col2\" >$1,114.06</td> \n",
       "        <td id=\"T_a54e3642_977c_11e9_97ed_80c5f2066896row3_col3\" class=\"data row3 col3\" >$1.93</td> \n",
       "    </tr>    <tr> \n",
       "        <th id=\"T_a54e3642_977c_11e9_97ed_80c5f2066896level0_row4\" class=\"row_heading level0 row4\" >25-29</th> \n",
       "        <td id=\"T_a54e3642_977c_11e9_97ed_80c5f2066896row4_col0\" class=\"data row4 col0\" >101</td> \n",
       "        <td id=\"T_a54e3642_977c_11e9_97ed_80c5f2066896row4_col1\" class=\"data row4 col1\" >$2.90</td> \n",
       "        <td id=\"T_a54e3642_977c_11e9_97ed_80c5f2066896row4_col2\" class=\"data row4 col2\" >$293.00</td> \n",
       "        <td id=\"T_a54e3642_977c_11e9_97ed_80c5f2066896row4_col3\" class=\"data row4 col3\" >$0.51</td> \n",
       "    </tr>    <tr> \n",
       "        <th id=\"T_a54e3642_977c_11e9_97ed_80c5f2066896level0_row5\" class=\"row_heading level0 row5\" >30-34</th> \n",
       "        <td id=\"T_a54e3642_977c_11e9_97ed_80c5f2066896row5_col0\" class=\"data row5 col0\" >73</td> \n",
       "        <td id=\"T_a54e3642_977c_11e9_97ed_80c5f2066896row5_col1\" class=\"data row5 col1\" >$2.93</td> \n",
       "        <td id=\"T_a54e3642_977c_11e9_97ed_80c5f2066896row5_col2\" class=\"data row5 col2\" >$214.00</td> \n",
       "        <td id=\"T_a54e3642_977c_11e9_97ed_80c5f2066896row5_col3\" class=\"data row5 col3\" >$0.37</td> \n",
       "    </tr>    <tr> \n",
       "        <th id=\"T_a54e3642_977c_11e9_97ed_80c5f2066896level0_row6\" class=\"row_heading level0 row6\" >35-39</th> \n",
       "        <td id=\"T_a54e3642_977c_11e9_97ed_80c5f2066896row6_col0\" class=\"data row6 col0\" >41</td> \n",
       "        <td id=\"T_a54e3642_977c_11e9_97ed_80c5f2066896row6_col1\" class=\"data row6 col1\" >$3.60</td> \n",
       "        <td id=\"T_a54e3642_977c_11e9_97ed_80c5f2066896row6_col2\" class=\"data row6 col2\" >$147.67</td> \n",
       "        <td id=\"T_a54e3642_977c_11e9_97ed_80c5f2066896row6_col3\" class=\"data row6 col3\" >$0.26</td> \n",
       "    </tr>    <tr> \n",
       "        <th id=\"T_a54e3642_977c_11e9_97ed_80c5f2066896level0_row7\" class=\"row_heading level0 row7\" >40+</th> \n",
       "        <td id=\"T_a54e3642_977c_11e9_97ed_80c5f2066896row7_col0\" class=\"data row7 col0\" >13</td> \n",
       "        <td id=\"T_a54e3642_977c_11e9_97ed_80c5f2066896row7_col1\" class=\"data row7 col1\" >$2.94</td> \n",
       "        <td id=\"T_a54e3642_977c_11e9_97ed_80c5f2066896row7_col2\" class=\"data row7 col2\" >$38.24</td> \n",
       "        <td id=\"T_a54e3642_977c_11e9_97ed_80c5f2066896row7_col3\" class=\"data row7 col3\" >$0.07</td> \n",
       "    </tr></tbody> \n",
       "</table> "
      ],
      "text/plain": [
       "<pandas.io.formats.style.Styler at 0x23e503cb4a8>"
      ]
     },
     "execution_count": 70,
     "metadata": {},
     "output_type": "execute_result"
    }
   ],
   "source": [
    "#set up bins\n",
    "bins = [0,9.99,14.99,19.99,24.99,29.99,34.99,39.99,2000]\n",
    "names = ['<10', '10-14', '15-19', '20-24', '25-29', '30-34', '35-39', '40+']\n",
    "\n",
    "#add bins to dataframe\n",
    "bins_df = purchase_data.copy()\n",
    "bins_df[\"Age Groups\"] = pd.cut(bins_df[\"Age\"], bins, labels=names)\n",
    "bins_column = pd.cut(bins_df[\"Age\"], bins, labels=names)\n",
    "bins_group = bins_df.groupby([\"Age Groups\"])\n",
    "\n",
    "#find counts, avgs, totals\n",
    "bins_counts = bins_group[\"Purchase ID\"].count()\n",
    "bins_avgs = bins_group[\"Price\"].mean()\n",
    "bins_totals = bins_group[\"Price\"].sum()\n",
    "\n",
    "#calculate avg purchase per person\n",
    "avg_purch = bins_totals/total_count\n",
    "\n",
    "#dataframe\n",
    "purch_age_analysis = pd.DataFrame({\"Purchase Count\": bins_counts,\n",
    "                                 \"Average Purchase Price\": bins_avgs,\n",
    "                                 \"Total Purchase Value\": bins_totals,\n",
    "                                 \"Average Purchase Total per Person\": avg_purch})\n",
    "#formatting\n",
    "purch_age_analysis.style.format({\"Average Purchase Price\":\"${:,.2f}\",\n",
    "                               \"Total Purchase Value\":\"${:,.2f}\",\n",
    "                               \"Average Purchase Total per Person\":\"${:,.2f}\"})"
   ]
  },
  {
   "cell_type": "markdown",
   "metadata": {},
   "source": [
    "## Top Spenders"
   ]
  },
  {
   "cell_type": "markdown",
   "metadata": {},
   "source": [
    "* Run basic calculations to obtain the results in the table below\n",
    "\n",
    "\n",
    "* Create a summary data frame to hold the results\n",
    "\n",
    "\n",
    "* Sort the total purchase value column in descending order\n",
    "\n",
    "\n",
    "* Optional: give the displayed data cleaner formatting\n",
    "\n",
    "\n",
    "* Display a preview of the summary data frame\n",
    "\n"
   ]
  },
  {
   "cell_type": "code",
   "execution_count": 77,
   "metadata": {},
   "outputs": [
    {
     "data": {
      "text/html": [
       "<style  type=\"text/css\" >\n",
       "</style>  \n",
       "<table id=\"T_f0007cf6_977d_11e9_b019_80c5f2066896\" > \n",
       "<thead>    <tr> \n",
       "        <th class=\"blank level0\" ></th> \n",
       "        <th class=\"col_heading level0 col0\" >Purchase Count</th> \n",
       "        <th class=\"col_heading level0 col1\" >Average Purchase Price</th> \n",
       "        <th class=\"col_heading level0 col2\" >Total Purchase Value</th> \n",
       "    </tr>    <tr> \n",
       "        <th class=\"index_name level0\" >SN</th> \n",
       "        <th class=\"blank\" ></th> \n",
       "        <th class=\"blank\" ></th> \n",
       "        <th class=\"blank\" ></th> \n",
       "    </tr></thead> \n",
       "<tbody>    <tr> \n",
       "        <th id=\"T_f0007cf6_977d_11e9_b019_80c5f2066896level0_row0\" class=\"row_heading level0 row0\" >Lisosia93</th> \n",
       "        <td id=\"T_f0007cf6_977d_11e9_b019_80c5f2066896row0_col0\" class=\"data row0 col0\" >5</td> \n",
       "        <td id=\"T_f0007cf6_977d_11e9_b019_80c5f2066896row0_col1\" class=\"data row0 col1\" >$3.79</td> \n",
       "        <td id=\"T_f0007cf6_977d_11e9_b019_80c5f2066896row0_col2\" class=\"data row0 col2\" >$18.96</td> \n",
       "    </tr>    <tr> \n",
       "        <th id=\"T_f0007cf6_977d_11e9_b019_80c5f2066896level0_row1\" class=\"row_heading level0 row1\" >Idastidru52</th> \n",
       "        <td id=\"T_f0007cf6_977d_11e9_b019_80c5f2066896row1_col0\" class=\"data row1 col0\" >4</td> \n",
       "        <td id=\"T_f0007cf6_977d_11e9_b019_80c5f2066896row1_col1\" class=\"data row1 col1\" >$3.86</td> \n",
       "        <td id=\"T_f0007cf6_977d_11e9_b019_80c5f2066896row1_col2\" class=\"data row1 col2\" >$15.45</td> \n",
       "    </tr>    <tr> \n",
       "        <th id=\"T_f0007cf6_977d_11e9_b019_80c5f2066896level0_row2\" class=\"row_heading level0 row2\" >Chamjask73</th> \n",
       "        <td id=\"T_f0007cf6_977d_11e9_b019_80c5f2066896row2_col0\" class=\"data row2 col0\" >3</td> \n",
       "        <td id=\"T_f0007cf6_977d_11e9_b019_80c5f2066896row2_col1\" class=\"data row2 col1\" >$4.61</td> \n",
       "        <td id=\"T_f0007cf6_977d_11e9_b019_80c5f2066896row2_col2\" class=\"data row2 col2\" >$13.83</td> \n",
       "    </tr>    <tr> \n",
       "        <th id=\"T_f0007cf6_977d_11e9_b019_80c5f2066896level0_row3\" class=\"row_heading level0 row3\" >Iral74</th> \n",
       "        <td id=\"T_f0007cf6_977d_11e9_b019_80c5f2066896row3_col0\" class=\"data row3 col0\" >4</td> \n",
       "        <td id=\"T_f0007cf6_977d_11e9_b019_80c5f2066896row3_col1\" class=\"data row3 col1\" >$3.40</td> \n",
       "        <td id=\"T_f0007cf6_977d_11e9_b019_80c5f2066896row3_col2\" class=\"data row3 col2\" >$13.62</td> \n",
       "    </tr>    <tr> \n",
       "        <th id=\"T_f0007cf6_977d_11e9_b019_80c5f2066896level0_row4\" class=\"row_heading level0 row4\" >Iskadarya95</th> \n",
       "        <td id=\"T_f0007cf6_977d_11e9_b019_80c5f2066896row4_col0\" class=\"data row4 col0\" >3</td> \n",
       "        <td id=\"T_f0007cf6_977d_11e9_b019_80c5f2066896row4_col1\" class=\"data row4 col1\" >$4.37</td> \n",
       "        <td id=\"T_f0007cf6_977d_11e9_b019_80c5f2066896row4_col2\" class=\"data row4 col2\" >$13.10</td> \n",
       "    </tr></tbody> \n",
       "</table> "
      ],
      "text/plain": [
       "<pandas.io.formats.style.Styler at 0x23e4fb02f98>"
      ]
     },
     "execution_count": 77,
     "metadata": {},
     "output_type": "execute_result"
    }
   ],
   "source": [
    "#group by SN\n",
    "spender_df = purchase_data.groupby(\"SN\")\n",
    "\n",
    "#count, avg and total\n",
    "spender_count = spender_df[\"Purchase ID\"].count()\n",
    "spender_avg = spender_df[\"Price\"].mean()\n",
    "spender_total = spender_df[\"Price\"].sum()\n",
    "\n",
    "#dataframe\n",
    "top_spenders = pd.DataFrame({\"Purchase Count\": spender_count,\n",
    "                                \"Average Purchase Price\": spender_avg,\n",
    "                                \"Total Purchase Value\": spender_total})\n",
    "\n",
    "#descending order\n",
    "top_spender_df = top_spenders.sort_values([\"Total Purchase Value\"], ascending=False).head(5)\n",
    "\n",
    "#formatting\n",
    "top_spender_df.style.format({\"Average Purchase Total\":\"${:,.2f}\",\n",
    "                                 \"Average Purchase Price\":\"${:,.2f}\", \n",
    "                                 \"Total Purchase Value\":\"${:,.2f}\"})\n"
   ]
  },
  {
   "cell_type": "markdown",
   "metadata": {},
   "source": [
    "## Most Popular Items"
   ]
  },
  {
   "cell_type": "markdown",
   "metadata": {},
   "source": [
    "* Retrieve the Item ID, Item Name, and Item Price columns\n",
    "\n",
    "\n",
    "* Group by Item ID and Item Name. Perform calculations to obtain purchase count, item price, and total purchase value\n",
    "\n",
    "\n",
    "* Create a summary data frame to hold the results\n",
    "\n",
    "\n",
    "* Sort the purchase count column in descending order\n",
    "\n",
    "\n",
    "* Optional: give the displayed data cleaner formatting\n",
    "\n",
    "\n",
    "* Display a preview of the summary data frame\n",
    "\n"
   ]
  },
  {
   "cell_type": "code",
   "execution_count": 80,
   "metadata": {},
   "outputs": [
    {
     "data": {
      "text/html": [
       "<style  type=\"text/css\" >\n",
       "</style>  \n",
       "<table id=\"T_addb212c_977f_11e9_a94d_80c5f2066896\" > \n",
       "<thead>    <tr> \n",
       "        <th class=\"blank\" ></th> \n",
       "        <th class=\"blank level0\" ></th> \n",
       "        <th class=\"col_heading level0 col0\" >Purchase Count</th> \n",
       "        <th class=\"col_heading level0 col1\" >Item Price</th> \n",
       "        <th class=\"col_heading level0 col2\" >Total Purchase Value</th> \n",
       "    </tr>    <tr> \n",
       "        <th class=\"index_name level0\" >Item ID</th> \n",
       "        <th class=\"index_name level1\" >Item Name</th> \n",
       "        <th class=\"blank\" ></th> \n",
       "        <th class=\"blank\" ></th> \n",
       "        <th class=\"blank\" ></th> \n",
       "    </tr></thead> \n",
       "<tbody>    <tr> \n",
       "        <th id=\"T_addb212c_977f_11e9_a94d_80c5f2066896level0_row0\" class=\"row_heading level0 row0\" >178</th> \n",
       "        <th id=\"T_addb212c_977f_11e9_a94d_80c5f2066896level1_row0\" class=\"row_heading level1 row0\" >Oathbreaker, Last Hope of the Breaking Storm</th> \n",
       "        <td id=\"T_addb212c_977f_11e9_a94d_80c5f2066896row0_col0\" class=\"data row0 col0\" >12</td> \n",
       "        <td id=\"T_addb212c_977f_11e9_a94d_80c5f2066896row0_col1\" class=\"data row0 col1\" >$4.23</td> \n",
       "        <td id=\"T_addb212c_977f_11e9_a94d_80c5f2066896row0_col2\" class=\"data row0 col2\" >$50.76</td> \n",
       "    </tr>    <tr> \n",
       "        <th id=\"T_addb212c_977f_11e9_a94d_80c5f2066896level0_row1\" class=\"row_heading level0 row1\" >145</th> \n",
       "        <th id=\"T_addb212c_977f_11e9_a94d_80c5f2066896level1_row1\" class=\"row_heading level1 row1\" >Fiery Glass Crusader</th> \n",
       "        <td id=\"T_addb212c_977f_11e9_a94d_80c5f2066896row1_col0\" class=\"data row1 col0\" >9</td> \n",
       "        <td id=\"T_addb212c_977f_11e9_a94d_80c5f2066896row1_col1\" class=\"data row1 col1\" >$4.58</td> \n",
       "        <td id=\"T_addb212c_977f_11e9_a94d_80c5f2066896row1_col2\" class=\"data row1 col2\" >$41.22</td> \n",
       "    </tr>    <tr> \n",
       "        <th id=\"T_addb212c_977f_11e9_a94d_80c5f2066896level0_row2\" class=\"row_heading level0 row2\" >108</th> \n",
       "        <th id=\"T_addb212c_977f_11e9_a94d_80c5f2066896level1_row2\" class=\"row_heading level1 row2\" >Extraction, Quickblade Of Trembling Hands</th> \n",
       "        <td id=\"T_addb212c_977f_11e9_a94d_80c5f2066896row2_col0\" class=\"data row2 col0\" >9</td> \n",
       "        <td id=\"T_addb212c_977f_11e9_a94d_80c5f2066896row2_col1\" class=\"data row2 col1\" >$3.53</td> \n",
       "        <td id=\"T_addb212c_977f_11e9_a94d_80c5f2066896row2_col2\" class=\"data row2 col2\" >$31.77</td> \n",
       "    </tr>    <tr> \n",
       "        <th id=\"T_addb212c_977f_11e9_a94d_80c5f2066896level0_row3\" class=\"row_heading level0 row3\" >82</th> \n",
       "        <th id=\"T_addb212c_977f_11e9_a94d_80c5f2066896level1_row3\" class=\"row_heading level1 row3\" >Nirvana</th> \n",
       "        <td id=\"T_addb212c_977f_11e9_a94d_80c5f2066896row3_col0\" class=\"data row3 col0\" >9</td> \n",
       "        <td id=\"T_addb212c_977f_11e9_a94d_80c5f2066896row3_col1\" class=\"data row3 col1\" >$4.90</td> \n",
       "        <td id=\"T_addb212c_977f_11e9_a94d_80c5f2066896row3_col2\" class=\"data row3 col2\" >$44.10</td> \n",
       "    </tr>    <tr> \n",
       "        <th id=\"T_addb212c_977f_11e9_a94d_80c5f2066896level0_row4\" class=\"row_heading level0 row4\" >19</th> \n",
       "        <th id=\"T_addb212c_977f_11e9_a94d_80c5f2066896level1_row4\" class=\"row_heading level1 row4\" >Pursuit, Cudgel of Necromancy</th> \n",
       "        <td id=\"T_addb212c_977f_11e9_a94d_80c5f2066896row4_col0\" class=\"data row4 col0\" >8</td> \n",
       "        <td id=\"T_addb212c_977f_11e9_a94d_80c5f2066896row4_col1\" class=\"data row4 col1\" >$1.02</td> \n",
       "        <td id=\"T_addb212c_977f_11e9_a94d_80c5f2066896row4_col2\" class=\"data row4 col2\" >$8.16</td> \n",
       "    </tr></tbody> \n",
       "</table> "
      ],
      "text/plain": [
       "<pandas.io.formats.style.Styler at 0x23e50e35940>"
      ]
     },
     "execution_count": 80,
     "metadata": {},
     "output_type": "execute_result"
    }
   ],
   "source": [
    "#items dataframe and group\n",
    "items = purchase_data[[\"Item ID\", \"Item Name\", \"Price\"]]\n",
    "item_stats = items.groupby([\"Item ID\", \"Item Name\"])\n",
    "\n",
    "#count of purchases, value of item and individual price of item\n",
    "item_count = item_stats[\"Price\"].count()\n",
    "item_total = (item_stats[\"Price\"].sum())\n",
    "item_price = item_total/item_count\n",
    "\n",
    "#dataframe\n",
    "most_popular = pd.DataFrame({\"Purchase Count\": item_count, \n",
    "                             \"Item Price\": item_price,\n",
    "                             \"Total Purchase Value\":item_total})\n",
    "\n",
    "#decsending order & formatting\n",
    "most_popular_df = most_popular.sort_values([\"Purchase Count\"], ascending=False).head(5)\n",
    "most_popular_df.style.format({\"Item Price\":\"${:,.2f}\",\n",
    "                           \"Total Purchase Value\":\"${:,.2f}\"})\n"
   ]
  },
  {
   "cell_type": "markdown",
   "metadata": {},
   "source": [
    "## Most Profitable Items"
   ]
  },
  {
   "cell_type": "markdown",
   "metadata": {},
   "source": [
    "* Sort the above table by total purchase value in descending order\n",
    "\n",
    "\n",
    "* Optional: give the displayed data cleaner formatting\n",
    "\n",
    "\n",
    "* Display a preview of the data frame\n",
    "\n"
   ]
  },
  {
   "cell_type": "code",
   "execution_count": 83,
   "metadata": {
    "scrolled": true
   },
   "outputs": [
    {
     "data": {
      "text/html": [
       "<style  type=\"text/css\" >\n",
       "</style>  \n",
       "<table id=\"T_25a62900_9780_11e9_aa56_80c5f2066896\" > \n",
       "<thead>    <tr> \n",
       "        <th class=\"blank\" ></th> \n",
       "        <th class=\"blank level0\" ></th> \n",
       "        <th class=\"col_heading level0 col0\" >Purchase Count</th> \n",
       "        <th class=\"col_heading level0 col1\" >Item Price</th> \n",
       "        <th class=\"col_heading level0 col2\" >Total Purchase Value</th> \n",
       "    </tr>    <tr> \n",
       "        <th class=\"index_name level0\" >Item ID</th> \n",
       "        <th class=\"index_name level1\" >Item Name</th> \n",
       "        <th class=\"blank\" ></th> \n",
       "        <th class=\"blank\" ></th> \n",
       "        <th class=\"blank\" ></th> \n",
       "    </tr></thead> \n",
       "<tbody>    <tr> \n",
       "        <th id=\"T_25a62900_9780_11e9_aa56_80c5f2066896level0_row0\" class=\"row_heading level0 row0\" >178</th> \n",
       "        <th id=\"T_25a62900_9780_11e9_aa56_80c5f2066896level1_row0\" class=\"row_heading level1 row0\" >Oathbreaker, Last Hope of the Breaking Storm</th> \n",
       "        <td id=\"T_25a62900_9780_11e9_aa56_80c5f2066896row0_col0\" class=\"data row0 col0\" >12</td> \n",
       "        <td id=\"T_25a62900_9780_11e9_aa56_80c5f2066896row0_col1\" class=\"data row0 col1\" >$4.23</td> \n",
       "        <td id=\"T_25a62900_9780_11e9_aa56_80c5f2066896row0_col2\" class=\"data row0 col2\" >$50.76</td> \n",
       "    </tr>    <tr> \n",
       "        <th id=\"T_25a62900_9780_11e9_aa56_80c5f2066896level0_row1\" class=\"row_heading level0 row1\" >82</th> \n",
       "        <th id=\"T_25a62900_9780_11e9_aa56_80c5f2066896level1_row1\" class=\"row_heading level1 row1\" >Nirvana</th> \n",
       "        <td id=\"T_25a62900_9780_11e9_aa56_80c5f2066896row1_col0\" class=\"data row1 col0\" >9</td> \n",
       "        <td id=\"T_25a62900_9780_11e9_aa56_80c5f2066896row1_col1\" class=\"data row1 col1\" >$4.90</td> \n",
       "        <td id=\"T_25a62900_9780_11e9_aa56_80c5f2066896row1_col2\" class=\"data row1 col2\" >$44.10</td> \n",
       "    </tr>    <tr> \n",
       "        <th id=\"T_25a62900_9780_11e9_aa56_80c5f2066896level0_row2\" class=\"row_heading level0 row2\" >145</th> \n",
       "        <th id=\"T_25a62900_9780_11e9_aa56_80c5f2066896level1_row2\" class=\"row_heading level1 row2\" >Fiery Glass Crusader</th> \n",
       "        <td id=\"T_25a62900_9780_11e9_aa56_80c5f2066896row2_col0\" class=\"data row2 col0\" >9</td> \n",
       "        <td id=\"T_25a62900_9780_11e9_aa56_80c5f2066896row2_col1\" class=\"data row2 col1\" >$4.58</td> \n",
       "        <td id=\"T_25a62900_9780_11e9_aa56_80c5f2066896row2_col2\" class=\"data row2 col2\" >$41.22</td> \n",
       "    </tr>    <tr> \n",
       "        <th id=\"T_25a62900_9780_11e9_aa56_80c5f2066896level0_row3\" class=\"row_heading level0 row3\" >92</th> \n",
       "        <th id=\"T_25a62900_9780_11e9_aa56_80c5f2066896level1_row3\" class=\"row_heading level1 row3\" >Final Critic</th> \n",
       "        <td id=\"T_25a62900_9780_11e9_aa56_80c5f2066896row3_col0\" class=\"data row3 col0\" >8</td> \n",
       "        <td id=\"T_25a62900_9780_11e9_aa56_80c5f2066896row3_col1\" class=\"data row3 col1\" >$4.88</td> \n",
       "        <td id=\"T_25a62900_9780_11e9_aa56_80c5f2066896row3_col2\" class=\"data row3 col2\" >$39.04</td> \n",
       "    </tr>    <tr> \n",
       "        <th id=\"T_25a62900_9780_11e9_aa56_80c5f2066896level0_row4\" class=\"row_heading level0 row4\" >103</th> \n",
       "        <th id=\"T_25a62900_9780_11e9_aa56_80c5f2066896level1_row4\" class=\"row_heading level1 row4\" >Singed Scalpel</th> \n",
       "        <td id=\"T_25a62900_9780_11e9_aa56_80c5f2066896row4_col0\" class=\"data row4 col0\" >8</td> \n",
       "        <td id=\"T_25a62900_9780_11e9_aa56_80c5f2066896row4_col1\" class=\"data row4 col1\" >$4.35</td> \n",
       "        <td id=\"T_25a62900_9780_11e9_aa56_80c5f2066896row4_col2\" class=\"data row4 col2\" >$34.80</td> \n",
       "    </tr></tbody> \n",
       "</table> "
      ],
      "text/plain": [
       "<pandas.io.formats.style.Styler at 0x23e50cc7d30>"
      ]
     },
     "execution_count": 83,
     "metadata": {},
     "output_type": "execute_result"
    }
   ],
   "source": [
    "#sort previous table on total purchase value\n",
    "most_popular_df = most_popular.sort_values([\"Total Purchase Value\"], ascending=False).head(5)\n",
    "most_popular_df.style.format({\"Item Price\":\"${:,.2f}\",\n",
    "                           \"Total Purchase Value\":\"${:,.2f}\"})"
   ]
  },
  {
   "cell_type": "code",
   "execution_count": null,
   "metadata": {},
   "outputs": [],
   "source": []
  }
 ],
 "metadata": {
  "anaconda-cloud": {},
  "kernel_info": {
   "name": "python3"
  },
  "kernelspec": {
   "display_name": "Python 3",
   "language": "python",
   "name": "python3"
  },
  "language_info": {
   "codemirror_mode": {
    "name": "ipython",
    "version": 3
   },
   "file_extension": ".py",
   "mimetype": "text/x-python",
   "name": "python",
   "nbconvert_exporter": "python",
   "pygments_lexer": "ipython3",
   "version": "3.7.1"
  },
  "nteract": {
   "version": "0.2.0"
  }
 },
 "nbformat": 4,
 "nbformat_minor": 2
}
